{
  "nbformat": 4,
  "nbformat_minor": 0,
  "metadata": {
    "colab": {
      "provenance": [],
      "authorship_tag": "ABX9TyOaBzfpoDG1E9aQh0tR7snf",
      "include_colab_link": true
    },
    "kernelspec": {
      "name": "python3",
      "display_name": "Python 3"
    },
    "language_info": {
      "name": "python"
    }
  },
  "cells": [
    {
      "cell_type": "markdown",
      "metadata": {
        "id": "view-in-github",
        "colab_type": "text"
      },
      "source": [
        "<a href=\"https://colab.research.google.com/github/Santiagojihe/pruebaIOIgrupo1/blob/main/SantiagoJ.ipynb\" target=\"_parent\"><img src=\"https://colab.research.google.com/assets/colab-badge.svg\" alt=\"Open In Colab\"/></a>"
      ]
    },
    {
      "cell_type": "markdown",
      "source": [
        "Titulo"
      ],
      "metadata": {
        "id": "b92kYQqPjnIP"
      }
    },
    {
      "cell_type": "code",
      "source": [
        "print(\"hola mundo\")\n",
        "print(\"me llamo santiago\")"
      ],
      "metadata": {
        "colab": {
          "base_uri": "https://localhost:8080/"
        },
        "id": "uzuTGct3jr6P",
        "outputId": "7551246f-d9d5-4e29-c149-c6046c229f05"
      },
      "execution_count": 2,
      "outputs": [
        {
          "output_type": "stream",
          "name": "stdout",
          "text": [
            "hola mundo\n",
            "me llamo santiago\n"
          ]
        }
      ]
    },
    {
      "cell_type": "markdown",
      "source": [
        "Tercer ejercicio"
      ],
      "metadata": {
        "id": "B6vAxM_9l7Of"
      }
    },
    {
      "cell_type": "code",
      "source": [
        "print(2+3)"
      ],
      "metadata": {
        "colab": {
          "base_uri": "https://localhost:8080/"
        },
        "id": "7iHpTV5Dl7zn",
        "outputId": "048982ae-8902-448d-973e-15e2ba5b99a3"
      },
      "execution_count": 1,
      "outputs": [
        {
          "output_type": "stream",
          "name": "stdout",
          "text": [
            "5\n"
          ]
        }
      ]
    }
  ]
}